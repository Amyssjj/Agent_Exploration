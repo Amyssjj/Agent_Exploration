{
 "cells": [
  {
   "cell_type": "markdown",
   "metadata": {},
   "source": [
    "[![Open In Colab](https://colab.research.google.com/assets/colab-badge.svg)](https://colab.research.google.com/github/Amyssjj/Agent_Influcencer/blob/main/Agent_Youtube_Insights_Fetcher.ipynb)"
   ]
  },
  {
   "cell_type": "markdown",
   "metadata": {},
   "source": [
    "### **From Natural Language to Key Insights: The 3-Steps YouTube Data Pipeline**\n",
    "\n",
    "##### **Motivation**\n",
    "<a name=\"Motivation\"></a>\n",
    "\n",
    "In such a fast-paced world where information on the internet is exploding, staying connecte, forming my own perspective, and staying sharp is incredibly challenging. Yet, with full passion for learning and growth, I’m always striving to improve.\n",
    "\n",
    "\n",
    "<hr>        "
   ]
  },
  {
   "cell_type": "code",
   "execution_count": 1,
   "metadata": {},
   "outputs": [
    {
     "name": "stderr",
     "output_type": "stream",
     "text": [
      "/Users/jingshis/Documents/Agent/agent_venv/lib/python3.10/site-packages/tqdm/auto.py:21: TqdmWarning: IProgress not found. Please update jupyter and ipywidgets. See https://ipywidgets.readthedocs.io/en/stable/user_install.html\n",
      "  from .autonotebook import tqdm as notebook_tqdm\n",
      "`pg.Object.schema` is deprecated and will be removed in future. Please use `__schema__` instead.\n"
     ]
    }
   ],
   "source": [
    "## import langfun and related packages\n",
    "import langfun as lf\n",
    "import pyglove as pg\n",
    "from langfun.core.structured import function_generation\n",
    "import pandas as pd\n",
    "import json\n",
    "from typing import Literal, Annotated\n",
    "from datetime import datetime\n",
    "from IPython import display\n",
    "\n",
    "\n",
    "## optional, this is where setup the API_KEY\n",
    "from dotenv import load_dotenv\n",
    "import os\n",
    "\n",
    "## load the keys\n",
    "load_dotenv()  # This loads your .env file\n",
    "youtube_key = os.environ.get('YOUTUEB_API_KEY')\n",
    "claude_key = os.environ.get('CLAUDE_API_KEY')\n",
    "gemini_key = os.environ.get('GEMINI_API_KEY')\n",
    "openai_key = os.environ.get('OPENAI_API_KEY')\n",
    "\n",
    "## build the LLM crew\n",
    "lm_claude = lf.llms.Claude35Sonnet(api_key=claude_key, temperature=0.0)\n",
    "lm_openai = lf.llms.Gpt4o(api_key=openai_key, temperature=0.6)\n",
    "lm_gemini = lf.llms.GeminiExp_20241114(api_key=gemini_key, temperature=0.6)\n"
   ]
  },
  {
   "cell_type": "markdown",
   "metadata": {},
   "source": [
    "#### **Step1: Use LLM to generate a function—described purely in natural language.**"
   ]
  },
  {
   "cell_type": "code",
   "execution_count": 49,
   "metadata": {},
   "outputs": [],
   "source": [
    "@function_generation.function_gen(lm=lm_claude, cache_filename='./utils/functions_cache.json')\n",
    "def youtube_fetcher(API_KEY:str, youtube_id:str) -> dict:\n",
    "    \"\"\"Retreve the youtube video basic info, caption, and comments through API\n",
    "\n",
    "    Returns:\n",
    "    The video basic info, caption, and comments\n",
    "\"\"\""
   ]
  },
  {
   "cell_type": "markdown",
   "metadata": {},
   "source": [
    "#### **Step2: Invoke that function directly, NO Manual CODING involved.**"
   ]
  },
  {
   "cell_type": "code",
   "execution_count": 50,
   "metadata": {},
   "outputs": [
    {
     "name": "stderr",
     "output_type": "stream",
     "text": [
      "Creating a new cache as cache file './utils/functions_cache.json' does not exist.\n"
     ]
    }
   ],
   "source": [
    "## function has been cached, so it will be able to reuse next time without additional calling from LLM.\n",
    "result = youtube_fetcher(API_KEY = youtube_key,  youtube_id='jIm2T7h_a0M')"
   ]
  },
  {
   "cell_type": "code",
   "execution_count": 51,
   "metadata": {},
   "outputs": [
    {
     "name": "stdout",
     "output_type": "stream",
     "text": [
      "dict_keys(['basic_info', 'captions', 'comments'])\n"
     ]
    }
   ],
   "source": [
    "print(result.keys())"
   ]
  },
  {
   "cell_type": "code",
   "execution_count": 52,
   "metadata": {},
   "outputs": [
    {
     "data": {
      "text/plain": [
       "{'title': 'AI Breaks Its Silence: OpenAI’s ‘Next 12 Days’, Genie 2, and a Word of Caution',\n",
       " 'description': \"Calmest before the storm? Whatever analogy you want to use, things had gotten quiet toward the end of 2024. But then tonight we got Genie 2, and a series of scheduled announcements from OpenAI... \\n\\nAssembly AI Speech to Text: https://www.assemblyai.com/?utm_source=youtube&utm_medium=influencer&utm_campaign=ai_explained \\n\\nSora is soon here, and o1, but I dive deeper into what it all means and whether reliability is on a path to being solved, ft: two recent papers. Plus Kling Motion Brush, Simple Bench QwQ update and much more.\\n\\n\\nAI Insiders: https://www.patreon.com/AIExplained\\n\\nChapters:\\n00:43 - OpenAI 12 Days, Sora Turbo, o1\\n03:06 - Genie 2\\n08:26 - Jensen Huang and Altman Hallucination Predictions\\n09:45 - Bag of Heuristics Paper\\n11:40 - Procedural Knowledge Paper\\n13:02 - AssemblyAI Universal 2\\n13:45 - SimpleBench QwQ and Chinese Models\\n14:42 - Kling Motion Brush\\n\\nGenie 2: https://deepmind.google/discover/blog/genie-2-a-large-scale-foundation-world-model/\\nJim Cramer: https://x.com/jimcramer/status/1864068878692675625\\nGive Us Full o1: https://x.com/tszzl/status/1863882905422106851\\nVerge Scoop: https://x.com/tomwarren/status/1864326361415925861\\nO1 Learning to Reason Benchmarks: https://openai.com/index/learning-to-reason-with-llms/\\nSIMA AI: https://arxiv.org/pdf/2404.10179\\nGenie Paper: https://arxiv.org/pdf/2402.15391\\nMy Video on Genie: https://www.youtube.com/watch?v=gGKsfXkSXv8\\nOasis Minecraft: https://x.com/risphereeditor/status/1852619965511204974\\nLLMs Procedural Knowledge Paper: https://arxiv.org/pdf/2411.12580\\nBag of Heuristics Paper: https://arxiv.org/pdf/2410.21272\\nJensen Huang Hallucinations: https://www.tomshardware.com/tech-industry/artificial-intelligence/jensen-says-we-are-several-years-away-from-solving-the-ai-hallucination-problem-in-the-meantime-we-have-to-keep-increasing-our-computation\\nDeepSeek Interview: https://www.chinatalk.media/p/deepseek-ceo-interview-with-chinas\\nKling Motion Brush: https://klingai.com/image-to-video\\n\\n\\nTim Rocktaschel Book: https://geni.us/ArtificialIntelligence\\n\\n\\nThe 8 Most Controversial Terms in AI: https://imp.i384100.net/m57g3M\\n\\nNon-hype Newsletter: https://signaltonoise.beehiiv.com/\\n\\nPodcast: https://aiexplainedopodcast.buzzsprout.com/\\n\\nMany people expense AI Insiders for work. Feel free to use the Template in the 'About Section' of my Patreon. https://www.patreon.com/AIExplained\",\n",
       " 'view_count': '112046',\n",
       " 'like_count': '4211',\n",
       " 'comment_count': '435'}"
      ]
     },
     "execution_count": 52,
     "metadata": {},
     "output_type": "execute_result"
    }
   ],
   "source": [
    "result['basic_info']"
   ]
  },
  {
   "cell_type": "markdown",
   "metadata": {},
   "source": [
    "#### **Step3: Produce key insights from another LLM**"
   ]
  },
  {
   "cell_type": "code",
   "execution_count": 40,
   "metadata": {},
   "outputs": [],
   "source": [
    "my_question = '''what's the key point and insights in this content:{{content}}, how's users feeling and sentiment?'''\n",
    "\n",
    "class insights(pg.Object):\n",
    "    key_points: Annotated[str, \"Please be specific and using bullet point to layout\"]  \n",
    "    users_feeling: str\n",
    "    users_sentiment: str\n",
    "\n",
    "fast_take = lf.query(prompt=my_question, content=result, schema=insights, lm=lm_openai)"
   ]
  },
  {
   "cell_type": "code",
   "execution_count": 41,
   "metadata": {},
   "outputs": [
    {
     "data": {
      "text/html": [
       "<html>\n",
       "<head>\n",
       "<style>\n",
       "/* Tooltip styles. */\n",
       "span.tooltip {\n",
       "  visibility: hidden;\n",
       "  white-space: pre-wrap;\n",
       "  font-weight: normal;\n",
       "  background-color: #484848;\n",
       "  color: #fff;\n",
       "  padding: 10px;\n",
       "  border-radius: 6px;\n",
       "  position: absolute;\n",
       "  z-index: 1;\n",
       "}\n",
       "span.tooltip:hover {\n",
       "  visibility: visible;\n",
       "}\n",
       "/* Summary styles. */\n",
       "details.pyglove summary {\n",
       "  font-weight: bold;\n",
       "  margin: -0.5em -0.5em 0;\n",
       "  padding: 0.5em;\n",
       "}\n",
       ".summary-name {\n",
       "  display: inline;\n",
       "  padding: 3px 5px 3px 5px;\n",
       "  margin: 0 5px;\n",
       "  border-radius: 3px;\n",
       "}\n",
       ".summary-title {\n",
       "  display: inline;\n",
       "}\n",
       ".summary-name + div.summary-title {\n",
       "  display: inline;\n",
       "  color: #aaa;\n",
       "}\n",
       ".summary-title:hover + span.tooltip {\n",
       "  visibility: visible;\n",
       "}\n",
       ".summary-name:hover > span.tooltip {\n",
       "  visibility: visible;\n",
       "  background-color: darkblue;\n",
       "}\n",
       "/* Simple value styles. */\n",
       ".simple-value {\n",
       "  color: blue;\n",
       "  display: inline-block;\n",
       "  white-space: pre-wrap;\n",
       "  padding: 0.2em;\n",
       "  margin-top: 0.15em;\n",
       "}\n",
       ".simple-value.str {\n",
       "  color: darkred;\n",
       "  font-style: italic;\n",
       "}\n",
       ".simple-value.int, .simple-value.float {\n",
       "  color: darkblue;\n",
       "}\n",
       "/* Value details styles. */\n",
       "details.pyglove {\n",
       "  border: 1px solid #aaa;\n",
       "  border-radius: 4px;\n",
       "  padding: 0.5em 0.5em 0;\n",
       "  margin: 0.25em 0;\n",
       "}\n",
       "details.pyglove[open] {\n",
       "  padding: 0.5em 0.5em 0.5em;\n",
       "}\n",
       ".highlight {\n",
       "  background-color: Mark;\n",
       "}\n",
       ".lowlight {\n",
       "  opacity: 0.2;\n",
       "}\n",
       "/* Complex value styles. */\n",
       "span.empty-container::before {\n",
       "    content: '(empty)';\n",
       "    font-style: italic;\n",
       "    margin-left: 0.5em;\n",
       "    color: #aaa;\n",
       "}\n",
       "</style>\n",
       "</head>\n",
       "<body>\n",
       "<details open class=\"pyglove insights\"><summary><div class=\"summary-title\">insights(...)</div><span class=\"tooltip\">insights(\n",
       "  key_points=&quot;\\n    - The video discusses recent developments in AI, including OpenAI&#x27;s scheduled announcements and the release of Genie 2.\\n    - There is a focus on the reliability of AI models and addressing the issue of AI hallucinations.\\n    - The video highlights th...&quot;,\n",
       "  users_feeling=&quot;\\n    - Users appreciate the channel&#x27;s objective and non-hyped approach to AI news.\\n    - There is excitement and anticipation for the upcoming AI developments and announcements.\\n    - Some users express skepticism about the progress in solving AI hallucina...&quot;,\n",
       "  users_sentiment=&#x27;\\n    - The sentiment is generally positive, with users expressing gratitude and appreciation for the content.\\n    - There is optimism about upcoming AI advancements, though tempered with caution regarding the current limitations of AI models.\\n    - Users a...&#x27;\n",
       ")</span></summary><div class=\"complex-value insights\"><details open class=\"pyglove str\"><summary><div class=\"summary-name\">key_points<span class=\"tooltip\">key_points</span></div><div class=\"summary-title\">str</div><span class=\"tooltip\">&quot;\\n    - The video discusses recent developments in AI, including OpenAI&#x27;s scheduled announcements and the release of Genie 2.\\n    - There is a focus on the reliability of AI models and addressing the issue of AI hallucinations.\\n    - The video highlights th...&quot;</span></summary><span class=\"simple-value str\">\n",
       "    - The video discusses recent developments in AI, including OpenAI&#x27;s scheduled announcements and the release of Genie 2.\n",
       "    - There is a focus on the reliability of AI models and addressing the issue of AI hallucinations.\n",
       "    - The video highlights the importance of procedural knowledge and learning heuristics in AI models.\n",
       "    - There is anticipation and excitement around OpenAI&#x27;s &#x27;Next 12 Days&#x27; announcements.\n",
       "    - The video is appreciated for its objective analysis and avoidance of unnecessary hype.\n",
       "    </span></details><details open class=\"pyglove str\"><summary><div class=\"summary-name\">users_feeling<span class=\"tooltip\">users_feeling</span></div><div class=\"summary-title\">str</div><span class=\"tooltip\">&quot;\\n    - Users appreciate the channel&#x27;s objective and non-hyped approach to AI news.\\n    - There is excitement and anticipation for the upcoming AI developments and announcements.\\n    - Some users express skepticism about the progress in solving AI hallucina...&quot;</span></summary><span class=\"simple-value str\">\n",
       "    - Users appreciate the channel&#x27;s objective and non-hyped approach to AI news.\n",
       "    - There is excitement and anticipation for the upcoming AI developments and announcements.\n",
       "    - Some users express skepticism about the progress in solving AI hallucinations.\n",
       "    - Overall, users feel informed and value the content for its integrity and insightful analysis.\n",
       "    </span></details><details open class=\"pyglove str\"><summary><div class=\"summary-name\">users_sentiment<span class=\"tooltip\">users_sentiment</span></div><div class=\"summary-title\">str</div><span class=\"tooltip\">&#x27;\\n    - The sentiment is generally positive, with users expressing gratitude and appreciation for the content.\\n    - There is optimism about upcoming AI advancements, though tempered with caution regarding the current limitations of AI models.\\n    - Users a...&#x27;</span></summary><span class=\"simple-value str\">\n",
       "    - The sentiment is generally positive, with users expressing gratitude and appreciation for the content.\n",
       "    - There is optimism about upcoming AI advancements, though tempered with caution regarding the current limitations of AI models.\n",
       "    - Users are supportive of the channel and its approach to delivering AI news and insights.\n",
       "    </span></details></div></details>\n",
       "</body>\n",
       "</html>"
      ],
      "text/plain": [
       "insights(key_points=\"\\n    - The video discusses recent developments in AI, including OpenAI's scheduled announcements and the release of Genie 2.\\n    - There is a focus on the reliability of AI models and addressing the issue of AI hallucinations.\\n    - The video highlights the importance of procedural knowledge and learning heuristics in AI models.\\n    - There is anticipation and excitement around OpenAI's 'Next 12 Days' announcements.\\n    - The video is appreciated for its objective analysis and avoidance of unnecessary hype.\\n    \", users_feeling=\"\\n    - Users appreciate the channel's objective and non-hyped approach to AI news.\\n    - There is excitement and anticipation for the upcoming AI developments and announcements.\\n    - Some users express skepticism about the progress in solving AI hallucinations.\\n    - Overall, users feel informed and value the content for its integrity and insightful analysis.\\n    \", users_sentiment='\\n    - The sentiment is generally positive, with users expressing gratitude and appreciation for the content.\\n    - There is optimism about upcoming AI advancements, though tempered with caution regarding the current limitations of AI models.\\n    - Users are supportive of the channel and its approach to delivering AI news and insights.\\n    ')"
      ]
     },
     "execution_count": 41,
     "metadata": {},
     "output_type": "execute_result"
    }
   ],
   "source": [
    "fast_take"
   ]
  },
  {
   "cell_type": "markdown",
   "metadata": {},
   "source": [
    "#### Appendix"
   ]
  },
  {
   "cell_type": "code",
   "execution_count": 54,
   "metadata": {},
   "outputs": [
    {
     "name": "stdout",
     "output_type": "stream",
     "text": [
      "```python\n",
      "def youtube_fetcher(API_KEY: str, youtube_id: str) -> dict:\n",
      "    \"\"\"Retrieve the youtube video basic info, caption, and comments through API.\n",
      "    \n",
      "    Args:\n",
      "        API_KEY: YouTube Data API v3 key\n",
      "        youtube_id: YouTube video ID\n",
      "        \n",
      "    Returns:\n",
      "        dict: Video information containing:\n",
      "            - basic_info: Title, description, view count, etc.\n",
      "            - captions: Video captions/subtitles if available\n",
      "            - comments: Top level comments on the video\n",
      "            \n",
      "    Raises:\n",
      "        HttpError: If the API request fails\n",
      "        ValueError: If API_KEY or youtube_id is invalid\n",
      "    \"\"\"\n",
      "    from googleapiclient.discovery import build\n",
      "    from googleapiclient.errors import HttpError\n",
      "    \n",
      "    if not API_KEY or not youtube_id:\n",
      "        raise ValueError(\"API_KEY and youtube_id must not be empty\")\n",
      "        \n",
      "    try:\n",
      "        # Initialize YouTube API client\n",
      "        youtube = build('youtube', 'v3', developerKey=API_KEY)\n",
      "        \n",
      "        # Get video basic info\n",
      "        video_response = youtube.videos().list(\n",
      "            part='snippet,statistics',\n",
      "            id=youtube_id\n",
      "        ).execute()\n",
      "        \n",
      "        if not video_response['items']:\n",
      "            raise ValueError(f\"No video found with id: {youtube_id}\")\n",
      "            \n",
      "        basic_info = video_response['items'][0]\n",
      "        \n",
      "        # Get video captions\n",
      "        captions_response = youtube.captions().list(\n",
      "            part='snippet',\n",
      "            videoId=youtube_id\n",
      "        ).execute()\n",
      "        \n",
      "        # Get video comments\n",
      "        comments_response = youtube.commentThreads().list(\n",
      "            part='snippet',\n",
      "            videoId=youtube_id,\n",
      "            maxResults=100,\n",
      "            order='relevance'\n",
      "        ).execute()\n",
      "        \n",
      "        return {\n",
      "            'basic_info': {\n",
      "                'title': basic_info['snippet']['title'],\n",
      "                'description': basic_info['snippet']['description'],\n",
      "                'view_count': basic_info['statistics']['viewCount'],\n",
      "                'like_count': basic_info['statistics'].get('likeCount', 0),\n",
      "                'comment_count': basic_info['statistics'].get('commentCount', 0)\n",
      "            },\n",
      "            'captions': [\n",
      "                {\n",
      "                    'language': item['snippet']['language'],\n",
      "                    'track_kind': item['snippet']['trackKind']\n",
      "                }\n",
      "                for item in captions_response.get('items', [])\n",
      "            ],\n",
      "            'comments': [\n",
      "                {\n",
      "                    'author': item['snippet']['topLevelComment']['snippet']['authorDisplayName'],\n",
      "                    'text': item['snippet']['topLevelComment']['snippet']['textDisplay'],\n",
      "                    'like_count': item['snippet']['topLevelComment']['snippet']['likeCount'],\n",
      "                    'reply_count': item['snippet']['totalReplyCount']\n",
      "                }\n",
      "                for item in comments_response.get('items', [])\n",
      "            ]\n",
      "        }\n",
      "        \n",
      "    except HttpError as e:\n",
      "        raise HttpError(e.resp, e.content)\n",
      "    finally:\n",
      "        if 'youtube' in locals():\n",
      "            youtube.close()\n",
      "```\n",
      "\n",
      "This implementation:\n",
      "\n",
      "1. Uses the official Google API client library for Python\n",
      "2. Includes proper error handling and input validation\n",
      "3. Makes efficient use of the YouTube Data API by:\n",
      "   - Requesting only needed parts in API calls\n",
      "   - Using batch requests where possible\n",
      "   - Limiting comment results to a reasonable number\n",
      "4. Returns a well-structured dictionary with the most relevant information\n",
      "5. Includes proper documentation with Args, Returns and Raises sections\n",
      "6. Properly closes the API connection using finally block\n",
      "7. Handles missing data gracefully using .get() method\n",
      "8. Uses type hints for better code clarity and IDE support\n",
      "9. Follows PEP 8 style guidelines\n",
      "10. Includes error handling for both API errors and invalid inputs\n",
      "\n",
      "To use this function, you would need to:\n",
      "1. Install required package: `pip install google-api-python-client`\n",
      "2. Have a valid YouTube Data API key\n",
      "3. Have a valid YouTube video ID\n",
      "\n",
      "Example usage:\n",
      "```python\n",
      "API_KEY = 'your_api_key_here'\n",
      "video_id = 'dQw4w9WgXcQ'\n",
      "video_data = youtube_fetcher(API_KEY, video_id)\n",
      "```\n"
     ]
    }
   ],
   "source": [
    "## Using this tool,  we could know the python code generated for execution\n",
    "with lf.use_settings(debug=True):\n",
    "    print(youtube_fetcher.source())"
   ]
  }
 ],
 "metadata": {
  "kernelspec": {
   "display_name": "agent_venv",
   "language": "python",
   "name": "agent_venv"
  },
  "language_info": {
   "codemirror_mode": {
    "name": "ipython",
    "version": 3
   },
   "file_extension": ".py",
   "mimetype": "text/x-python",
   "name": "python",
   "nbconvert_exporter": "python",
   "pygments_lexer": "ipython3",
   "version": "3.10.9"
  }
 },
 "nbformat": 4,
 "nbformat_minor": 2
}
